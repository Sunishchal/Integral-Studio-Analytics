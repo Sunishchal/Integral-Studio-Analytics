{
 "cells": [
  {
   "cell_type": "markdown",
   "metadata": {},
   "source": [
    "# Objectives:\n",
    "- Build a classification model which will be able to tell how likely a given user session is to become a customer based on browsing behavior, referral source, device, and location  \n",
    "    - This classifier can be used in realtime to predict which users aren't likely to convert  \n",
    "    - Before they are anticipated to end their session, they can automatically be given a coupon or offered free shipping to increase their chances of buying \n",
    "- Evaluate model accuracy and misclassification rates \n",
    "- Project ROI from implementation"
   ]
  },
  {
   "cell_type": "code",
   "execution_count": null,
   "metadata": {
    "codeCollapsed": false,
    "collapsed": false,
    "hiddenCell": false
   },
   "outputs": [],
   "source": [
    "import numpy as np\n",
    "import pandas as pd\n",
    "import matplotlib.pyplot as plt\n",
    "pd.options.display.precision = 3\n",
    "\n",
    "from imblearn.over_sampling import SMOTE\n",
    "from sklearn.naive_bayes import BernoulliNB\n",
    "from sklearn.metrics import confusion_matrix\n",
    "from sklearn.linear_model import SGDClassifier\n",
    "from sklearn.tree import DecisionTreeClassifier\n",
    "from sklearn.preprocessing import StandardScaler\n",
    "from sklearn.neighbors import KNeighborsClassifier\n",
    "from sklearn.ensemble import RandomForestClassifier\n",
    "from sklearn.linear_model import LogisticRegression\n",
    "from sklearn.cross_validation import train_test_split"
   ]
  },
  {
   "cell_type": "markdown",
   "metadata": {},
   "source": [
    "## Matrix preparation"
   ]
  },
  {
   "cell_type": "code",
   "execution_count": 8,
   "metadata": {
    "collapsed": false
   },
   "outputs": [
    {
     "data": {
      "text/plain": [
       "(62801, 172)"
      ]
     },
     "execution_count": 8,
     "metadata": {},
     "output_type": "execute_result"
    }
   ],
   "source": [
    "# Import dataset and check dimensions\n",
    "\n",
    "design_matrix = pd.read_csv('./design_matrix.csv', index_col=0)\n",
    "design_matrix.shape"
   ]
  },
  {
   "cell_type": "code",
   "execution_count": 21,
   "metadata": {
    "collapsed": false
   },
   "outputs": [
    {
     "name": "stdout",
     "output_type": "stream",
     "text": [
      "Training class proportions: 0.5\n",
      "Test class proportions: 0.048\n",
      "(56520, 768) (6281, 768) (86042, 768) (11304, 768)\n"
     ]
    },
    {
     "name": "stderr",
     "output_type": "stream",
     "text": [
      "/usr/local/lib/python2.7/dist-packages/simplejson/encoder.py:291: DeprecationWarning: Interpreting naive datetime as local 2017-08-29 23:28:18.089017. Please add timezone info to timestamps.\n",
      "  chunks = self.iterencode(o, _one_shot=True)\n"
     ]
    }
   ],
   "source": [
    "# Encode categorical variables \n",
    "dummies = pd.get_dummies(design_matrix.drop('made_purchase', axis=1), columns=['ip_state', 'source'])\n",
    "\n",
    "# Scale x matrix\n",
    "y = design_matrix.made_purchase\n",
    "x = StandardScaler().fit_transform(dummies)\n",
    "\n",
    "# Split into control, testing, and training sets\n",
    "x, control_x, y, control_y = train_test_split(x, y, test_size=.1, random_state=5)\n",
    "xtrain, xtest, ytrain, ytest = train_test_split(x, y, test_size=.2, random_state=5)\n",
    "\n",
    "# Oversample training data\n",
    "xtrain, ytrain = SMOTE(random_state=0).fit_sample(xtrain, ytrain)\n",
    "\n",
    "# Check class balance and verify dimensions\n",
    "print \"Training class proportions:\", ytrain.mean()\n",
    "print \"Test class proportions:\", round(ytest.mean(), 3)\n",
    "print x.shape, control_x.shape, xtrain.shape, xtest.shape"
   ]
  },
  {
   "cell_type": "code",
   "execution_count": null,
   "metadata": {
    "collapsed": false
   },
   "outputs": [],
   "source": [
    "# Set baseline for test set\n",
    "\n",
    "baseline =  1 - ytest.mean()\n",
    "print \"Test set baseline accuracy: \", baseline"
   ]
  },
  {
   "cell_type": "markdown",
   "metadata": {},
   "source": [
    "## Model selection\n",
    "I will be testing 6 different classifier algorithms out of the box to choose which one to tune.  \n",
    "I've created a \"performance score\" metric which shows a model's performance above baseline normalized on a 0 - 1.0 scale."
   ]
  },
  {
   "cell_type": "code",
   "execution_count": 5,
   "metadata": {
    "collapsed": false
   },
   "outputs": [
    {
     "name": "stdout",
     "output_type": "stream",
     "text": [
      "Performance score:  0.327137546468\n"
     ]
    }
   ],
   "source": [
    "lr = LogisticRegression(random_state=5, n_jobs=-1)\n",
    "lr.fit(xtrain, ytrain)\n",
    "print \"Performance score: \", (lr.score(xtest, ytest) - baseline) * (1 / (1 - baseline))"
   ]
  },
  {
   "cell_type": "code",
   "execution_count": 19,
   "metadata": {
    "collapsed": false
   },
   "outputs": [
    {
     "name": "stderr",
     "output_type": "stream",
     "text": [
      "/usr/local/lib/python2.7/dist-packages/sklearn/linear_model/logistic.py:1228: UserWarning: 'n_jobs' > 1 does not have any effect when 'solver' is set to 'liblinear'. Got 'n_jobs' = -1.\n",
      "  \" = {}.\".format(self.n_jobs))\n"
     ]
    },
    {
     "data": {
      "text/plain": [
       "0.88782731776362345"
      ]
     },
     "execution_count": 19,
     "metadata": {},
     "output_type": "execute_result"
    },
    {
     "name": "stderr",
     "output_type": "stream",
     "text": [
      "/usr/local/lib/python2.7/dist-packages/simplejson/encoder.py:291: DeprecationWarning: Interpreting naive datetime as local 2017-08-29 23:25:31.344807. Please add timezone info to timestamps.\n",
      "  chunks = self.iterencode(o, _one_shot=True)\n"
     ]
    }
   ],
   "source": [
    "lr = LogisticRegression(random_state=5, n_jobs=-1)\n",
    "lr.fit(xtrain, ytrain)\n",
    "lr.score(xtest, ytest)"
   ]
  },
  {
   "cell_type": "code",
   "execution_count": 62,
   "metadata": {
    "collapsed": false
   },
   "outputs": [
    {
     "name": "stdout",
     "output_type": "stream",
     "text": [
      "Performance score:  0.418215613383\n"
     ]
    }
   ],
   "source": [
    "bnb = BernoulliNB()\n",
    "bnb.fit(xtrain, ytrain)\n",
    "print \"Performance score: \", (bnb.score(xtest, ytest) - baseline) * (1 / (1 - baseline))"
   ]
  },
  {
   "cell_type": "code",
   "execution_count": 63,
   "metadata": {
    "collapsed": false
   },
   "outputs": [
    {
     "name": "stdout",
     "output_type": "stream",
     "text": [
      "Performance score:  0.304832713755\n"
     ]
    }
   ],
   "source": [
    "sgd = SGDClassifier(random_state=5, n_jobs=-1)\n",
    "sgd.fit(xtrain, ytrain)\n",
    "print \"Performance score: \", (sgd.score(xtest, ytest) - baseline) * (1 / (1 - baseline))"
   ]
  },
  {
   "cell_type": "code",
   "execution_count": 64,
   "metadata": {
    "collapsed": false
   },
   "outputs": [
    {
     "name": "stdout",
     "output_type": "stream",
     "text": [
      "Performance score:  0.433085501859\n"
     ]
    }
   ],
   "source": [
    "knn = KNeighborsClassifier(n_jobs=-1)\n",
    "knn.fit(xtrain, ytrain)\n",
    "print \"Performance score: \", (knn.score(xtest, ytest) - baseline) * (1 / (1 - baseline))"
   ]
  },
  {
   "cell_type": "code",
   "execution_count": 65,
   "metadata": {
    "collapsed": false
   },
   "outputs": [
    {
     "name": "stdout",
     "output_type": "stream",
     "text": [
      "Performance score:  0.661710037175\n"
     ]
    }
   ],
   "source": [
    "dtc = DecisionTreeClassifier(random_state=5)\n",
    "dtc.fit(xtrain, ytrain)\n",
    "print \"Performance score: \", (dtc.score(xtest, ytest) - baseline) * (1 / (1 - baseline))"
   ]
  },
  {
   "cell_type": "code",
   "execution_count": 66,
   "metadata": {
    "collapsed": false
   },
   "outputs": [
    {
     "name": "stdout",
     "output_type": "stream",
     "text": [
      "Performance score:  0.671003717472\n"
     ]
    }
   ],
   "source": [
    "rfc = RandomForestClassifier(random_state=5, n_jobs=-1)\n",
    "rfc.fit(xtrain, ytrain)\n",
    "print \"Performance score: \", (rfc.score(xtest, ytest) - baseline) * (1 / (1 - baseline))"
   ]
  },
  {
   "cell_type": "markdown",
   "metadata": {},
   "source": [
    "## Random Forest wins\n",
    "Next, I'll tune to find the optimal hyperparameters. Keep in mind the baseline is 95.24% when evaluating the accuracy score."
   ]
  },
  {
   "cell_type": "code",
   "execution_count": 6,
   "metadata": {
    "collapsed": false
   },
   "outputs": [
    {
     "name": "stdout",
     "output_type": "stream",
     "text": [
      "Performance score:  0.700743494424\n"
     ]
    }
   ],
   "source": [
    "# Use class weight for imbalanced data\n",
    "\n",
    "rfc = RandomForestClassifier(n_estimators=30,\n",
    "                             max_features=100,\n",
    "                             max_depth=500, \n",
    "                             random_state=5, \n",
    "                             n_jobs=-1)\n",
    "rfc.fit(xtrain, ytrain)\n",
    "\n",
    "print \"Performance score: \", (rfc.score(xtest, ytest) - baseline) * (1 / (1 - baseline))"
   ]
  },
  {
   "cell_type": "code",
   "execution_count": 7,
   "metadata": {
    "collapsed": false
   },
   "outputs": [
    {
     "data": {
      "text/html": [
       "<div>\n",
       "<table border=\"1\" class=\"dataframe\">\n",
       "  <thead>\n",
       "    <tr style=\"text-align: right;\">\n",
       "      <th></th>\n",
       "      <th>feature</th>\n",
       "      <th>weight</th>\n",
       "    </tr>\n",
       "  </thead>\n",
       "  <tbody>\n",
       "    <tr>\n",
       "      <th>759</th>\n",
       "      <td>source_shopify</td>\n",
       "      <td>0.346</td>\n",
       "    </tr>\n",
       "    <tr>\n",
       "      <th>0</th>\n",
       "      <td>KendrickLamar</td>\n",
       "      <td>0.053</td>\n",
       "    </tr>\n",
       "    <tr>\n",
       "      <th>1</th>\n",
       "      <td>TDEApparel</td>\n",
       "      <td>0.051</td>\n",
       "    </tr>\n",
       "    <tr>\n",
       "      <th>737</th>\n",
       "      <td>source_TDE</td>\n",
       "      <td>0.037</td>\n",
       "    </tr>\n",
       "    <tr>\n",
       "      <th>18</th>\n",
       "      <td>Account</td>\n",
       "      <td>0.031</td>\n",
       "    </tr>\n",
       "    <tr>\n",
       "      <th>3</th>\n",
       "      <td>Categories</td>\n",
       "      <td>0.030</td>\n",
       "    </tr>\n",
       "    <tr>\n",
       "      <th>2</th>\n",
       "      <td>Collections</td>\n",
       "      <td>0.028</td>\n",
       "    </tr>\n",
       "    <tr>\n",
       "      <th>4</th>\n",
       "      <td>NewArrivals</td>\n",
       "      <td>0.026</td>\n",
       "    </tr>\n",
       "    <tr>\n",
       "      <th>742</th>\n",
       "      <td>source_direct</td>\n",
       "      <td>0.025</td>\n",
       "    </tr>\n",
       "    <tr>\n",
       "      <th>39</th>\n",
       "      <td>CreateAccount</td>\n",
       "      <td>0.024</td>\n",
       "    </tr>\n",
       "    <tr>\n",
       "      <th>8</th>\n",
       "      <td>KungFuKennyL/ST-Shirt(Black)</td>\n",
       "      <td>0.019</td>\n",
       "    </tr>\n",
       "    <tr>\n",
       "      <th>6</th>\n",
       "      <td>KungFuKennyL/ST-Shirt(Gold)</td>\n",
       "      <td>0.018</td>\n",
       "    </tr>\n",
       "    <tr>\n",
       "      <th>7</th>\n",
       "      <td>KungFuKennyHoodie(Black)</td>\n",
       "      <td>0.017</td>\n",
       "    </tr>\n",
       "    <tr>\n",
       "      <th>167</th>\n",
       "      <td>is_desktop</td>\n",
       "      <td>0.016</td>\n",
       "    </tr>\n",
       "    <tr>\n",
       "      <th>5</th>\n",
       "      <td>YourShoppingCart</td>\n",
       "      <td>0.015</td>\n",
       "    </tr>\n",
       "    <tr>\n",
       "      <th>749</th>\n",
       "      <td>source_google search</td>\n",
       "      <td>0.014</td>\n",
       "    </tr>\n",
       "    <tr>\n",
       "      <th>37</th>\n",
       "      <td>404NotFound</td>\n",
       "      <td>0.011</td>\n",
       "    </tr>\n",
       "    <tr>\n",
       "      <th>168</th>\n",
       "      <td>is_apple</td>\n",
       "      <td>0.010</td>\n",
       "    </tr>\n",
       "  </tbody>\n",
       "</table>\n",
       "</div>"
      ],
      "text/plain": [
       "                          feature  weight\n",
       "759                source_shopify   0.346\n",
       "0                   KendrickLamar   0.053\n",
       "1                      TDEApparel   0.051\n",
       "737                    source_TDE   0.037\n",
       "18                        Account   0.031\n",
       "3                      Categories   0.030\n",
       "2                     Collections   0.028\n",
       "4                     NewArrivals   0.026\n",
       "742                 source_direct   0.025\n",
       "39                  CreateAccount   0.024\n",
       "8    KungFuKennyL/ST-Shirt(Black)   0.019\n",
       "6     KungFuKennyL/ST-Shirt(Gold)   0.018\n",
       "7        KungFuKennyHoodie(Black)   0.017\n",
       "167                    is_desktop   0.016\n",
       "5                YourShoppingCart   0.015\n",
       "749          source_google search   0.014\n",
       "37                    404NotFound   0.011\n",
       "168                      is_apple   0.010"
      ]
     },
     "execution_count": 7,
     "metadata": {},
     "output_type": "execute_result"
    }
   ],
   "source": [
    "# To better understand the user behavior, let's examine the 10 highest weighted features by random forest\n",
    "\n",
    "pd.DataFrame({'weight': rfc.feature_importances_, 'feature': dummies.columns}).sort_values('weight', ascending=False).head(18)"
   ]
  },
  {
   "cell_type": "code",
   "execution_count": 8,
   "metadata": {
    "collapsed": false
   },
   "outputs": [
    {
     "name": "stdout",
     "output_type": "stream",
     "text": [
      "Accuracy score: % 98.5757254069\n",
      "True positives:  503  True positive rate:  4.44975230007\n",
      "True negative:  10640  True negative rate:  94.1259731069\n",
      "False positives:  126  False positive rate:  1.11464968153\n",
      "False negatives:  35  False negative rate:  0.309624911536\n"
     ]
    }
   ],
   "source": [
    "# Test the trained model for accuracy and misclassification\n",
    "\n",
    "probas = pd.DataFrame({'true': ytest, 'pred': rfc.predict_proba(xtest)[:,1]})\n",
    "\n",
    "tp = len(probas[(probas.true == 1) & (probas.pred > .5)])\n",
    "tn = len(probas[(probas.true == 0) & (probas.pred <= .5)])\n",
    "fp = len(probas[(probas.true == 0) & (probas.pred > .5)])\n",
    "fn = len(probas[(probas.true == 1) & (probas.pred <= .5)]) \n",
    "\n",
    "print 'Accuracy score: %', float(tp + tn) / len(ytest) * 100\n",
    "print 'True positives: ', tp, \" True positive rate: \", float(tp) / len(ytest) * 100\n",
    "print 'True negative: ', tn, \" True negative rate: \", float(tn) / len(ytest) * 100\n",
    "print 'False positives: ', fp, \" False positive rate: \", float(fp) / len(ytest) * 100\n",
    "print 'False negatives: ', fn, \" False negative rate: \", float(fn) / len(ytest) * 100"
   ]
  },
  {
   "cell_type": "markdown",
   "metadata": {},
   "source": [
    "## Examining misclassification\n",
    "A false positive means our model predicted a potential buyer for someone who is never going to buy.  \n",
    "A false negative means our model predicted a non-buyer for someone who is going to buy.  \n",
    "  \n",
    "Since the goal is maximizing profit, I only want to offer promotions to the users who are on the fence about buying.  \n",
    "I want to avoid users who are on either end of the probability spectrum and focus on those who are close to a 50% chance of converting.  \n",
    "  \n",
    "This minimizes consumer surplus, retaining profit that would be lost by giving discounts to users who are willing to pay full price.  \n",
    "It also retains the integrity of the promotional offer, since it wont be offered automatically to the 95% of users who never had intent to buy. "
   ]
  },
  {
   "cell_type": "code",
   "execution_count": 9,
   "metadata": {
    "collapsed": false
   },
   "outputs": [
    {
     "data": {
      "text/html": [
       "<div>\n",
       "<table border=\"1\" class=\"dataframe\">\n",
       "  <thead>\n",
       "    <tr>\n",
       "      <th></th>\n",
       "      <th colspan=\"2\" halign=\"left\">true positives</th>\n",
       "      <th colspan=\"2\" halign=\"left\">true negatives</th>\n",
       "      <th colspan=\"2\" halign=\"left\">false positives</th>\n",
       "      <th colspan=\"2\" halign=\"left\">false negatives</th>\n",
       "    </tr>\n",
       "    <tr>\n",
       "      <th></th>\n",
       "      <th>prediction</th>\n",
       "      <th>actual</th>\n",
       "      <th>prediction</th>\n",
       "      <th>actual</th>\n",
       "      <th>prediction</th>\n",
       "      <th>actual</th>\n",
       "      <th>prediction</th>\n",
       "      <th>actual</th>\n",
       "    </tr>\n",
       "  </thead>\n",
       "  <tbody>\n",
       "    <tr>\n",
       "      <th>0</th>\n",
       "      <td>0.783</td>\n",
       "      <td>1</td>\n",
       "      <td>0.0</td>\n",
       "      <td>0</td>\n",
       "      <td>0.605</td>\n",
       "      <td>0</td>\n",
       "      <td>0.429</td>\n",
       "      <td>1</td>\n",
       "    </tr>\n",
       "    <tr>\n",
       "      <th>1</th>\n",
       "      <td>0.869</td>\n",
       "      <td>1</td>\n",
       "      <td>0.0</td>\n",
       "      <td>0</td>\n",
       "      <td>0.605</td>\n",
       "      <td>0</td>\n",
       "      <td>0.300</td>\n",
       "      <td>1</td>\n",
       "    </tr>\n",
       "    <tr>\n",
       "      <th>2</th>\n",
       "      <td>0.933</td>\n",
       "      <td>1</td>\n",
       "      <td>0.0</td>\n",
       "      <td>0</td>\n",
       "      <td>0.557</td>\n",
       "      <td>0</td>\n",
       "      <td>0.000</td>\n",
       "      <td>1</td>\n",
       "    </tr>\n",
       "    <tr>\n",
       "      <th>3</th>\n",
       "      <td>0.996</td>\n",
       "      <td>1</td>\n",
       "      <td>0.0</td>\n",
       "      <td>0</td>\n",
       "      <td>0.783</td>\n",
       "      <td>0</td>\n",
       "      <td>0.436</td>\n",
       "      <td>1</td>\n",
       "    </tr>\n",
       "    <tr>\n",
       "      <th>4</th>\n",
       "      <td>0.633</td>\n",
       "      <td>1</td>\n",
       "      <td>0.0</td>\n",
       "      <td>0</td>\n",
       "      <td>0.774</td>\n",
       "      <td>0</td>\n",
       "      <td>0.367</td>\n",
       "      <td>1</td>\n",
       "    </tr>\n",
       "    <tr>\n",
       "      <th>5</th>\n",
       "      <td>0.567</td>\n",
       "      <td>1</td>\n",
       "      <td>0.0</td>\n",
       "      <td>0</td>\n",
       "      <td>0.633</td>\n",
       "      <td>0</td>\n",
       "      <td>0.258</td>\n",
       "      <td>1</td>\n",
       "    </tr>\n",
       "    <tr>\n",
       "      <th>6</th>\n",
       "      <td>0.966</td>\n",
       "      <td>1</td>\n",
       "      <td>0.0</td>\n",
       "      <td>0</td>\n",
       "      <td>0.557</td>\n",
       "      <td>0</td>\n",
       "      <td>0.067</td>\n",
       "      <td>1</td>\n",
       "    </tr>\n",
       "    <tr>\n",
       "      <th>7</th>\n",
       "      <td>1.000</td>\n",
       "      <td>1</td>\n",
       "      <td>0.0</td>\n",
       "      <td>0</td>\n",
       "      <td>0.774</td>\n",
       "      <td>0</td>\n",
       "      <td>0.200</td>\n",
       "      <td>1</td>\n",
       "    </tr>\n",
       "    <tr>\n",
       "      <th>8</th>\n",
       "      <td>0.774</td>\n",
       "      <td>1</td>\n",
       "      <td>0.0</td>\n",
       "      <td>0</td>\n",
       "      <td>0.722</td>\n",
       "      <td>0</td>\n",
       "      <td>0.133</td>\n",
       "      <td>1</td>\n",
       "    </tr>\n",
       "    <tr>\n",
       "      <th>9</th>\n",
       "      <td>0.984</td>\n",
       "      <td>1</td>\n",
       "      <td>0.0</td>\n",
       "      <td>0</td>\n",
       "      <td>0.758</td>\n",
       "      <td>0</td>\n",
       "      <td>0.453</td>\n",
       "      <td>1</td>\n",
       "    </tr>\n",
       "  </tbody>\n",
       "</table>\n",
       "</div>"
      ],
      "text/plain": [
       "  true positives        true negatives        false positives         \\\n",
       "      prediction actual     prediction actual      prediction actual   \n",
       "0          0.783      1            0.0      0           0.605      0   \n",
       "1          0.869      1            0.0      0           0.605      0   \n",
       "2          0.933      1            0.0      0           0.557      0   \n",
       "3          0.996      1            0.0      0           0.783      0   \n",
       "4          0.633      1            0.0      0           0.774      0   \n",
       "5          0.567      1            0.0      0           0.633      0   \n",
       "6          0.966      1            0.0      0           0.557      0   \n",
       "7          1.000      1            0.0      0           0.774      0   \n",
       "8          0.774      1            0.0      0           0.722      0   \n",
       "9          0.984      1            0.0      0           0.758      0   \n",
       "\n",
       "  false negatives         \n",
       "       prediction actual  \n",
       "0           0.429      1  \n",
       "1           0.300      1  \n",
       "2           0.000      1  \n",
       "3           0.436      1  \n",
       "4           0.367      1  \n",
       "5           0.258      1  \n",
       "6           0.067      1  \n",
       "7           0.200      1  \n",
       "8           0.133      1  \n",
       "9           0.453      1  "
      ]
     },
     "execution_count": 9,
     "metadata": {},
     "output_type": "execute_result"
    }
   ],
   "source": [
    "# Let's see what the probabilities look like for the four classification categories\n",
    "# This will help me choose appropriate thresholds for promotional offers\n",
    "\n",
    "tp = probas[(probas.true == 1) & (probas.pred >= .5)].reset_index(drop=True)\n",
    "tn = probas[(probas.true == 0) & (probas.pred < .5)].reset_index(drop=True)\n",
    "fp = probas[(probas.true == 0) & (probas.pred >= .5)].reset_index(drop=True)\n",
    "fn = probas[(probas.true == 1) & (probas.pred < .5)].reset_index(drop=True)\n",
    "\n",
    "probas_table = pd.concat([tp.head(10), tn.head(10), fp.head(10), fn.head(10)], axis=1, ignore_index=True)\n",
    "probas_table.columns = pd.MultiIndex.from_tuples([('true positives', 'prediction'), ('true positives', 'actual'), ('true negatives', 'prediction'), ('true negatives', 'actual'), \n",
    "                                                  ('false positives', 'prediction'), ('false positives', 'actual'), ('false negatives', 'prediction'), ('false negatives', 'actual')])\n",
    "probas_table"
   ]
  },
  {
   "cell_type": "markdown",
   "metadata": {},
   "source": [
    "True positives are all mostly above the .6 threshold while true negatives are all bottomed out.  \n",
    "False positives are falling within .8 and false negatives are all over the place.  \n",
    "  \n",
    "This is only a subset of 10 observations from each category. I'll display the summary statistics for each below to get a better idea of the entire spread. "
   ]
  },
  {
   "cell_type": "code",
   "execution_count": 10,
   "metadata": {
    "collapsed": false
   },
   "outputs": [
    {
     "data": {
      "text/html": [
       "<div>\n",
       "<table border=\"1\" class=\"dataframe\">\n",
       "  <thead>\n",
       "    <tr style=\"text-align: right;\">\n",
       "      <th></th>\n",
       "      <th>true positives</th>\n",
       "      <th>true negatives</th>\n",
       "      <th>false positives</th>\n",
       "      <th>false negatives</th>\n",
       "    </tr>\n",
       "  </thead>\n",
       "  <tbody>\n",
       "    <tr>\n",
       "      <th>count</th>\n",
       "      <td>505.000</td>\n",
       "      <td>10635.000</td>\n",
       "      <td>131.000</td>\n",
       "      <td>33.000</td>\n",
       "    </tr>\n",
       "    <tr>\n",
       "      <th>mean</th>\n",
       "      <td>0.846</td>\n",
       "      <td>0.004</td>\n",
       "      <td>0.697</td>\n",
       "      <td>0.309</td>\n",
       "    </tr>\n",
       "    <tr>\n",
       "      <th>std</th>\n",
       "      <td>0.156</td>\n",
       "      <td>0.032</td>\n",
       "      <td>0.149</td>\n",
       "      <td>0.133</td>\n",
       "    </tr>\n",
       "    <tr>\n",
       "      <th>min</th>\n",
       "      <td>0.500</td>\n",
       "      <td>0.000</td>\n",
       "      <td>0.500</td>\n",
       "      <td>0.000</td>\n",
       "    </tr>\n",
       "    <tr>\n",
       "      <th>25%</th>\n",
       "      <td>0.764</td>\n",
       "      <td>0.000</td>\n",
       "      <td>0.557</td>\n",
       "      <td>0.200</td>\n",
       "    </tr>\n",
       "    <tr>\n",
       "      <th>50%</th>\n",
       "      <td>0.906</td>\n",
       "      <td>0.000</td>\n",
       "      <td>0.709</td>\n",
       "      <td>0.333</td>\n",
       "    </tr>\n",
       "    <tr>\n",
       "      <th>75%</th>\n",
       "      <td>1.000</td>\n",
       "      <td>0.000</td>\n",
       "      <td>0.774</td>\n",
       "      <td>0.433</td>\n",
       "    </tr>\n",
       "    <tr>\n",
       "      <th>max</th>\n",
       "      <td>1.000</td>\n",
       "      <td>0.498</td>\n",
       "      <td>1.000</td>\n",
       "      <td>0.467</td>\n",
       "    </tr>\n",
       "  </tbody>\n",
       "</table>\n",
       "</div>"
      ],
      "text/plain": [
       "       true positives  true negatives  false positives  false negatives\n",
       "count         505.000       10635.000          131.000           33.000\n",
       "mean            0.846           0.004            0.697            0.309\n",
       "std             0.156           0.032            0.149            0.133\n",
       "min             0.500           0.000            0.500            0.000\n",
       "25%             0.764           0.000            0.557            0.200\n",
       "50%             0.906           0.000            0.709            0.333\n",
       "75%             1.000           0.000            0.774            0.433\n",
       "max             1.000           0.498            1.000            0.467"
      ]
     },
     "execution_count": 10,
     "metadata": {},
     "output_type": "execute_result"
    }
   ],
   "source": [
    "# Test a narrower threshold range\n",
    "\n",
    "summary_stats = pd.concat([tp.pred.describe(), tn.pred.describe(), fp.pred.describe(), fn.pred.describe()], axis=1, ignore_index=True)\n",
    "summary_stats.columns = ['true positives', 'true negatives', 'false positives', 'false negatives']\n",
    "summary_stats"
   ]
  },
  {
   "cell_type": "markdown",
   "metadata": {},
   "source": [
    "## Offering promotions to the right users\n",
    "The mean for false positives and false negatives fall close to 0.7 and 0.3, respectively. I will set my thresholds to 0.2 and 0.8 to make sure I'm capturing all the uncertainty from the model.  \n",
    "\n",
    "I also want to observe the prediction intervals at a 90% confidence to make sure I am excluding any users that my model is unsure about. This will discourage predictions being made too early for users who we haven't collected enough data on yet. "
   ]
  },
  {
   "cell_type": "code",
   "execution_count": 60,
   "metadata": {
    "collapsed": false
   },
   "outputs": [
    {
     "data": {
      "text/plain": [
       "<matplotlib.axes._subplots.AxesSubplot at 0x7f8731871e10>"
      ]
     },
     "execution_count": 60,
     "metadata": {},
     "output_type": "execute_result"
    },
    {
     "data": {
      "image/png": "[encoded data removed]",
      "text/plain": [
       "<matplotlib.figure.Figure at 0x7f873f4c7c10>"
      ]
     },
     "metadata": {},
     "output_type": "display_data"
    }
   ],
   "source": [
    "# Deconstruct Random Forest algorithm to estimate each tree individually and calculate percentile based prediction intervals\n",
    "\n",
    "def pred_ints(model, X, y, percentile=90):\n",
    "    estimations = pd.DataFrame({i: model.estimators_[i].predict_proba(X)[:,1] for i in range(len(model.estimators_))})\n",
    "    estimations['lower'] = estimations.apply(lambda x: np.percentile(x, (100 - percentile) / 2. ), axis=1)\n",
    "    estimations['upper'] = estimations.apply(lambda x: np.percentile(x, 100 - (100 - percentile) / 2. ), axis=1)\n",
    "    estimations['proba'] = estimations.apply(lambda x: x[:30].mean(), axis=1)\n",
    "    estimations['true'] = y.reset_index(drop=True)\n",
    "    return estimations\n",
    "\n",
    "est = pred_ints(rfc, xtest, ytest)\n",
    "\n",
    "est[est.true == 1].proba[:20].reset_index(drop=True).plot(kind='bar', title='Conversion probabilities for 20 customers')"
   ]
  },
  {
   "cell_type": "code",
   "execution_count": 69,
   "metadata": {
    "collapsed": false
   },
   "outputs": [
    {
     "name": "stdout",
     "output_type": "stream",
     "text": [
      "Customers offered promotions  262\n",
      "Customers not offered promotions:  11042\n",
      "Percentage of customers offered promotions:  2.32 %\n"
     ]
    }
   ],
   "source": [
    "# Exclude users outside the prediction intervals and probability thresholds, return \"on the fence users\"\n",
    "\n",
    "def otf_users(estimations, lower_thresh=.2, upper_thresh=.8):\n",
    "    sub = estimations[(estimations.lower > 0.05) & (estimations.upper < 0.95) & (estimations.proba >= lower_thresh) & (estimations.proba <= upper_thresh)]\n",
    "    return sub.index\n",
    "\n",
    "promos = otf_users(est)\n",
    "\n",
    "print \"Customers offered promotions \", len(promos)\n",
    "print \"Customers not offered promotions: \", len(ytest) - len(promos)\n",
    "print \"Percentage of customers offered promotions: \", round(float(len(promos))/len(ytest) * 100, 2), '%'"
   ]
  },
  {
   "cell_type": "markdown",
   "metadata": {},
   "source": [
    "## Testing on unseen data"
   ]
  },
  {
   "cell_type": "code",
   "execution_count": 12,
   "metadata": {
    "collapsed": false
   },
   "outputs": [
    {
     "name": "stdout",
     "output_type": "stream",
     "text": [
      "Performance score:  0.632786885246\n",
      "Accuracy score: % 98.2009234198\n",
      "\n",
      "True positives:  279  True positive rate:  4.44196783952\n",
      "True negative:  5889  True negative rate:  93.7589555803\n",
      "False positives:  87  False positive rate:  1.38512975641\n",
      "False negatives:  26  False negative rate:  0.413946823754\n",
      "\n",
      "Users offered promotions  152\n",
      "Users not offered promotions:  6129\n",
      "% of users offered promotions: % 2.41999681579\n"
     ]
    }
   ],
   "source": [
    "# Run same tests using control group\n",
    "\n",
    "control_baseline = 1 - control_y.mean()\n",
    "control_preds = pred_ints(rfc, control_x, control_y)\n",
    "control_promos = otf_users(control_preds)\n",
    "\n",
    "tp = len(control_preds[(control_preds.true == 1) & (control_preds.proba >= .5)])\n",
    "tn = len(control_preds[(control_preds.true == 0) & (control_preds.proba < .5)])\n",
    "fp = len(control_preds[(control_preds.true == 0) & (control_preds.proba >= .5)])\n",
    "fn = len(control_preds[(control_preds.true == 1) & (control_preds.proba < .5)])\n",
    "\n",
    "print \"Performance score: \", (rfc.score(control_x, control_y) - control_baseline) * (1 / (1 - control_baseline))\n",
    "print 'Accuracy score: %', float(tp + tn) / len(control_y) * 100\n",
    "print '\\nTrue positives: ', tp, \" True positive rate: \", float(tp) / len(control_y) * 100\n",
    "print 'True negative: ', tn, \" True negative rate: \", float(tn) / len(control_y) * 100\n",
    "print 'False positives: ', fp, \" False positive rate: \", float(fp) / len(control_y) * 100\n",
    "print 'False negatives: ', fn, \" False negative rate: \", float(fn) / len(control_y) * 100\n",
    "print \"\\nUsers offered promotions \", len(control_promos)\n",
    "print \"Users not offered promotions: \", len(control_y) - len(control_promos)\n",
    "print \"% of users offered promotions: %\", float(len(control_promos))/len(control_y) * 100"
   ]
  },
  {
   "cell_type": "markdown",
   "metadata": {},
   "source": [
    "## Whitespace & ROI analysis\n",
    "Assuming that all of the customers offered promotions would convert, I'll calculate how many additional customers we could expect to bring in using this method."
   ]
  },
  {
   "cell_type": "markdown",
   "metadata": {},
   "source": [
    "#### `Section deleted to preserve confidential financial information`"
   ]
  },
  {
   "cell_type": "markdown",
   "metadata": {},
   "source": [
    "The maximum ROI potential is **[hidden]**, or a 16% revenue increase per year, assuming that all users who are shown the promo make a purchase.  \n",
    "\n",
    "In reality, we can't expect a 100% success rate, so I've plotted the potential ROI against promotion success rate. My conservative projection will assume a 50% success rate."
   ]
  },
  {
   "cell_type": "code",
   "execution_count": 3,
   "metadata": {
    "collapsed": false
   },
   "outputs": [
    {
     "data": {
      "text/plain": [
       "<matplotlib.text.Text at 0x7ff4693b2b90>"
      ]
     },
     "execution_count": 3,
     "metadata": {},
     "output_type": "execute_result"
    },
    {
     "data": {
      "image/png": "[encoded data removed]",
      "text/plain": [
       "<matplotlib.figure.Figure at 0x7ff46938c490>"
      ]
     },
     "metadata": {},
     "output_type": "display_data"
    }
   ],
   "source": [
    "pd.DataFrame([0, 16], columns=['%']).plot(kind='line')\n",
    "plt.xlabel('Proportion of promos successfully converted')\n",
    "plt.ylabel('% increase annual revenue')"
   ]
  },
  {
   "cell_type": "markdown",
   "metadata": {},
   "source": [
    "## 8% Annual Revenue Increase\n",
    "Integral Studio can increase total revenue for Top Dawg Entertainment by approximately **8%** per year through implementation of this classifier algorithm, which makes a significant impact at a multi-million dollar company. This is assuming a 50% conversion rate from flash sales and does not factor in merchandise costs. Financial analysis and A/B testing should be performed after model implementation to pinpoint a more accurate success rate and ROI projection. "
   ]
  }
 ],
 "metadata": {
  "kernelspec": {
   "display_name": "Python 2",
   "language": "python",
   "name": "python2"
  },
  "language_info": {
   "codemirror_mode": {
    "name": "ipython",
    "version": 2
   },
   "file_extension": ".py",
   "mimetype": "text/x-python",
   "name": "python",
   "nbconvert_exporter": "python",
   "pygments_lexer": "ipython2",
   "version": "2.7.9"
  }
 },
 "nbformat": 4,
 "nbformat_minor": 2
}
